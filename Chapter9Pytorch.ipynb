{
  "cells": [
    {
      "cell_type": "code",
      "execution_count": 1,
      "metadata": {
        "id": "_8qW2Wbw-Wmy"
      },
      "outputs": [],
      "source": [
        "# !pip install torch"
      ]
    },
    {
      "cell_type": "code",
      "execution_count": 2,
      "metadata": {
        "id": "si7j5wwD-cYy"
      },
      "outputs": [],
      "source": [
        "import torch\n",
        "import torch.nn as nn\n",
        "import torch.nn.functional as F"
      ]
    },
    {
      "cell_type": "code",
      "execution_count": 3,
      "metadata": {
        "id": "XLECTFTR-ehg"
      },
      "outputs": [],
      "source": [
        "x = [[1, 1], [2, 1], [2, 2], [1, 2]]\n",
        "y = [[1], [0], [1], [0]]"
      ]
    },
    {
      "cell_type": "code",
      "execution_count": 4,
      "metadata": {
        "id": "QLEjN0v9-f5r"
      },
      "outputs": [],
      "source": [
        "x = torch.tensor(x).float()\n",
        "y = torch.tensor(y).float()"
      ]
    },
    {
      "cell_type": "code",
      "execution_count": 5,
      "metadata": {
        "id": "XY6hJrbO-hJ9"
      },
      "outputs": [],
      "source": [
        "dataset = torch.utils.data.TensorDataset(x, y)"
      ]
    },
    {
      "cell_type": "code",
      "execution_count": 6,
      "metadata": {
        "colab": {
          "base_uri": "https://localhost:8080/"
        },
        "id": "U_se_tm0-iT9",
        "outputId": "e261cf4e-f0be-4bbc-9457-b83cb18c1f98"
      },
      "outputs": [
        {
          "output_type": "execute_result",
          "data": {
            "text/plain": [
              "(tensor([1., 1.]), tensor([1.]))"
            ]
          },
          "metadata": {},
          "execution_count": 6
        }
      ],
      "source": [
        "dataset[0]"
      ]
    },
    {
      "cell_type": "code",
      "execution_count": 7,
      "metadata": {
        "colab": {
          "base_uri": "https://localhost:8080/"
        },
        "id": "bRmXFaSr-jnd",
        "outputId": "fead095b-58a9-47b6-91c3-4db99fbfb820"
      },
      "outputs": [
        {
          "output_type": "execute_result",
          "data": {
            "text/plain": [
              "4"
            ]
          },
          "metadata": {},
          "execution_count": 7
        }
      ],
      "source": [
        "len(dataset)"
      ]
    },
    {
      "cell_type": "code",
      "execution_count": 8,
      "metadata": {
        "id": "4FpwxMvg-kuf"
      },
      "outputs": [],
      "source": [
        "dataloader = torch.utils.data.DataLoader(dataset, batch_size=2, shuffle=True)"
      ]
    },
    {
      "cell_type": "code",
      "execution_count": 9,
      "metadata": {
        "id": "YEXXaBY5-mA6"
      },
      "outputs": [],
      "source": [
        "# Example linear layer with 100 inputs and 50 outputs:\n",
        "linear_layer = nn.Linear(100, 50)"
      ]
    },
    {
      "cell_type": "code",
      "execution_count": 10,
      "metadata": {
        "id": "WpNcVOCz-niM"
      },
      "outputs": [],
      "source": [
        "model = nn.Sequential(\n",
        "    nn.Linear(2, 4), # 2 inputs and 4 outputs for the first layer\n",
        "    nn.ReLU(),\n",
        "    nn.Linear(4, 1) # 4 inputs and one output for the second layer.\n",
        ")"
      ]
    },
    {
      "cell_type": "code",
      "execution_count": 11,
      "metadata": {
        "id": "griouAov-qbN"
      },
      "outputs": [],
      "source": [
        "def evaluate(model, dataloader):\n",
        "    preds, labels = [], []\n",
        "    with torch.no_grad():\n",
        "        for i, batch in enumerate(dataloader):\n",
        "            inputs, targets = batch\n",
        "            prediction = model(inputs).sigmoid()\n",
        "            preds.append(prediction.flatten())\n",
        "            labels.append(targets.flatten())\n",
        "    preds = torch.cat(preds, dim=0)\n",
        "    labels = torch.cat(labels, dim=0)\n",
        "    pred_thresholded = (preds > 0.5)\n",
        "    return (pred_thresholded == labels).float().mean()"
      ]
    },
    {
      "cell_type": "code",
      "execution_count": 12,
      "metadata": {
        "id": "TgcRawFg-t6K"
      },
      "outputs": [],
      "source": [
        "optimizer = torch.optim.Adam(model.parameters(), lr=0.01)"
      ]
    },
    {
      "cell_type": "code",
      "execution_count": 13,
      "metadata": {
        "colab": {
          "base_uri": "https://localhost:8080/"
        },
        "id": "PmSLCfXe-x1o",
        "outputId": "f6a26679-6405-42c4-f2f5-f2dcd48269d0"
      },
      "outputs": [
        {
          "output_type": "stream",
          "name": "stderr",
          "text": [
            "Epoch 199, Loss: 1.966, Accuracy: 0.750: 100%|██████████| 200/200 [00:01<00:00, 120.78it/s]\n"
          ]
        }
      ],
      "source": [
        "import tqdm\n",
        "\n",
        "losses, accuracies = [], []\n",
        "pbar = tqdm.tqdm(range(200))\n",
        "\n",
        "for epoch in pbar:\n",
        "    total_loss = 0\n",
        "    for i, batch in enumerate(dataloader):\n",
        "        inputs, labels = batch\n",
        "        preds = model(inputs)\n",
        "        loss = F.binary_cross_entropy_with_logits(preds.flatten(), labels.flatten())\n",
        "        optimizer.zero_grad()\n",
        "        loss.backward()\n",
        "        optimizer.step()\n",
        "        total_loss = total_loss + len(inputs) * loss.item()\n",
        "    losses.append(total_loss)\n",
        "    accuracy = evaluate(model, dataloader)\n",
        "    accuracies.append(accuracy)\n",
        "\n",
        "    pbar.set_description(f\"Epoch {epoch}, Loss: {total_loss:.3f}, Accuracy: {accuracy:.3f}\")"
      ]
    },
    {
      "cell_type": "code",
      "execution_count": 14,
      "metadata": {
        "colab": {
          "base_uri": "https://localhost:8080/",
          "height": 472
        },
        "id": "dipOrjFK-3Cq",
        "outputId": "0635d5a4-30a7-4228-9e28-27320c013852"
      },
      "outputs": [
        {
          "output_type": "display_data",
          "data": {
            "text/plain": [
              "<Figure size 640x480 with 1 Axes>"
            ],
            "image/png": "[encoded data removed]"
          },
          "metadata": {}
        }
      ],
      "source": [
        "import matplotlib.pyplot as plt\n",
        "\n",
        "plt.plot(losses)\n",
        "plt.xlabel(\"Epoch\")\n",
        "plt.ylabel(\"Total loss\")\n",
        "plt.title(\"Training loss progression per epoch\")\n",
        "plt.show()"
      ]
    },
    {
      "cell_type": "code",
      "execution_count": 15,
      "metadata": {
        "colab": {
          "base_uri": "https://localhost:8080/",
          "height": 472
        },
        "id": "iMIFzZzb-4WL",
        "outputId": "b3679f65-1f2d-4d9c-e5e4-6e9bfbcfb556"
      },
      "outputs": [
        {
          "output_type": "display_data",
          "data": {
            "text/plain": [
              "<Figure size 640x480 with 1 Axes>"
            ],
            "image/png": "[encoded data removed]"
          },
          "metadata": {}
        }
      ],
      "source": [
        "plt.plot(accuracies)\n",
        "plt.xlabel(\"Epoch\")\n",
        "plt.ylabel(\"Accuracy\")\n",
        "plt.title(\"Accuracy progression per epoch\")\n",
        "plt.show()"
      ]
    },
    {
      "cell_type": "code",
      "execution_count": 16,
      "metadata": {
        "id": "7ms9B13i-6xC"
      },
      "outputs": [],
      "source": [
        "torch.save(model.state_dict(), \"my_model_path.pt\")"
      ]
    },
    {
      "cell_type": "code",
      "execution_count": 17,
      "metadata": {
        "id": "a6xcWbOT--Fs",
        "colab": {
          "base_uri": "https://localhost:8080/"
        },
        "outputId": "c5c6f7b0-c7b5-4c30-cb22-476a6e24a266"
      },
      "outputs": [
        {
          "output_type": "execute_result",
          "data": {
            "text/plain": [
              "<All keys matched successfully>"
            ]
          },
          "metadata": {},
          "execution_count": 17
        }
      ],
      "source": [
        "model = nn.Sequential(\n",
        "    nn.Linear(2, 4),\n",
        "    nn.ReLU(),\n",
        "    nn.Linear(4, 1)\n",
        ")\n",
        "model.load_state_dict(torch.load(\"my_model_path.pt\"))"
      ]
    },
    {
      "cell_type": "code",
      "execution_count": 18,
      "metadata": {
        "id": "RE0fMHw3_A4U"
      },
      "outputs": [],
      "source": [
        "class MyModel(nn.Module):\n",
        "    def __init__(self, input_size, output_size, intermediate_size):\n",
        "        super().__init__() # This calls the init function of nn.Module\n",
        "\n",
        "        self.input_size = input_size\n",
        "        self.output_size = output_size\n",
        "        self.intermediate_size = intermediate_size\n",
        "\n",
        "        self.model = nn.Sequential(\n",
        "            nn.Linear(self.input_size, self.intermediate_size),\n",
        "            nn.ReLU(),\n",
        "            nn.Linear(self.intermediate_size, self.output_size)\n",
        "        )\n",
        "\n",
        "    def forward(self, x):\n",
        "        return self.model(x)"
      ]
    },
    {
      "cell_type": "code",
      "execution_count": 19,
      "metadata": {
        "id": "UAm9a-9F_BYU"
      },
      "outputs": [],
      "source": [
        "def my_loss(logits, labels):\n",
        "    logits, labels = logits.flatten(), labels.flatten()\n",
        "    return (-(labels * F.logsigmoid(logits) + (1-labels) * F.logsigmoid(-logits))).mean()"
      ]
    },
    {
      "cell_type": "code",
      "execution_count": 20,
      "metadata": {
        "id": "RHyWCSO5_F-2"
      },
      "outputs": [],
      "source": [
        "class CustomDataset(torch.utils.data.Dataset):\n",
        "    def __init__(self, x, y):\n",
        "        super().__init__()\n",
        "        self.x = x\n",
        "        self.y = y\n",
        "\n",
        "    def __getitem__(self, idx):\n",
        "        return (self.x[idx], self.y[idx]) # this function is called when we index the dataset (e.g. dataset[3])\n",
        "\n",
        "    def __len__(self):\n",
        "        return len(self.x) # this function tells us the length (len(dataset)) in order to iterate through the dataset\n",
        "\n",
        "dataset = CustomDataset(x, y)"
      ]
    },
    {
      "cell_type": "code",
      "source": [
        "# Logistic regression\n",
        "X = torch.randn((100, 7))\n",
        "Y = torch.randint(0, 2, (100,)).float()\n",
        "model = nn.Linear(7, 1)\n",
        "optimizer = torch.optim.Adam(model.parameters(), lr=1e-2)\n",
        "\n",
        "# one sample training step\n",
        "logits = model(X)\n",
        "loss = F.binary_cross_entropy_with_logits(logits.flatten(), Y.flatten())\n",
        "\n",
        "optimizer.zero_grad()\n",
        "loss.backward()\n",
        "optimizer.step()"
      ],
      "metadata": {
        "id": "jUUr1kaeIfMA"
      },
      "execution_count": 21,
      "outputs": []
    },
    {
      "cell_type": "code",
      "source": [
        "# Linear regression\n",
        "X = torch.randn((100, 7))\n",
        "Y = torch.randn((100,))\n",
        "model = nn.Linear(7, 1)\n",
        "optimizer = torch.optim.Adam(model.parameters(), lr=1e-2)\n",
        "\n",
        "# one sample training step\n",
        "preds = model(X)\n",
        "loss = F.mse_loss(preds.flatten(), Y.flatten())\n",
        "\n",
        "optimizer.zero_grad()\n",
        "loss.backward()\n",
        "optimizer.step()"
      ],
      "metadata": {
        "id": "ryHZejYZCCkW"
      },
      "execution_count": 22,
      "outputs": []
    },
    {
      "cell_type": "code",
      "source": [],
      "metadata": {
        "id": "BO3uVhYTIgzS"
      },
      "execution_count": 22,
      "outputs": []
    }
  ],
  "metadata": {
    "colab": {
      "provenance": []
    },
    "kernelspec": {
      "display_name": "Python 3",
      "name": "python3"
    },
    "language_info": {
      "name": "python"
    }
  },
  "nbformat": 4,
  "nbformat_minor": 0
}